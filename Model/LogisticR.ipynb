{
  "nbformat": 4,
  "nbformat_minor": 0,
  "metadata": {
    "colab": {
      "name": "LogisticR.ipynb",
      "provenance": [],
      "collapsed_sections": []
    },
    "kernelspec": {
      "name": "python3",
      "display_name": "Python 3"
    },
    "language_info": {
      "name": "python"
    }
  },
  "cells": [
    {
      "cell_type": "code",
      "execution_count": 73,
      "metadata": {
        "id": "yX0ffNUv17Wq"
      },
      "outputs": [],
      "source": [
        "import pandas as pd\n",
        "import numpy as np\n",
        "import seaborn as sns\n",
        "import matplotlib.pyplot as plt\n",
        "import warnings\n",
        "warnings.filterwarnings('ignore')"
      ]
    },
    {
      "cell_type": "code",
      "source": [
        "df = pd.read_csv('/content/Final Data.csv')\n",
        "#df = df.sample(frac=1,random_state=0)\n",
        "# df"
      ],
      "metadata": {
        "id": "BMlyYQSN18uh"
      },
      "execution_count": 74,
      "outputs": []
    },
    {
      "cell_type": "code",
      "source": [
        "# considering all the numerical columns\n",
        "df1=df.iloc[:,5:]\n",
        "df1.head()"
      ],
      "metadata": {
        "colab": {
          "base_uri": "https://localhost:8080/",
          "height": 300
        },
        "id": "hBigIqa82Dp-",
        "outputId": "763a32d3-450d-4c81-84db-a9b6868aea17"
      },
      "execution_count": 75,
      "outputs": [
        {
          "output_type": "execute_result",
          "data": {
            "text/plain": [
              "   chroma_stft_kew_0  chroma_stft_min_0  chroma_stft_max_0  chroma_stft_std_0  \\\n",
              "0           0.091806           0.049545                1.0           0.306971   \n",
              "1           1.025965           0.007265                1.0           0.274179   \n",
              "2           1.395750           0.000648                1.0           0.307888   \n",
              "3           0.926616           0.003467                1.0           0.242382   \n",
              "4           0.311976           0.037900                1.0           0.336300   \n",
              "\n",
              "   chroma_stft_mean_0  chroma_stft_median_0  chroma_stft_kurtosis_0  \\\n",
              "0            0.570429              0.556123               -1.389693   \n",
              "1            0.350277              0.265414                0.140231   \n",
              "2            0.236975              0.087020                0.739644   \n",
              "3            0.301311              0.262466                0.285644   \n",
              "4            0.517165              0.438171               -1.429111   \n",
              "\n",
              "   chroma_stft_kew_1  chroma_stft_min_1  chroma_stft_max_1  ...  \\\n",
              "0           0.344998           0.035745                1.0  ...   \n",
              "1           0.379772           0.004221                1.0  ...   \n",
              "2           1.646942           0.000456                1.0  ...   \n",
              "3           0.843115           0.003586                1.0  ...   \n",
              "4           0.892591           0.045833                1.0  ...   \n",
              "\n",
              "   tonnetz_mean_5  tonnetz_median_5  tonnetz_kurtosis_5  \\\n",
              "0        0.007217         -0.000351           -0.410349   \n",
              "1       -0.011851         -0.010293            0.099909   \n",
              "2        0.001545         -0.009260            0.360879   \n",
              "3       -0.014834         -0.023444            0.456362   \n",
              "4        0.005743          0.005232           -0.153372   \n",
              "\n",
              "   zero_crossing_rate_kew_0  zero_crossing_rate_min_0  \\\n",
              "0                 -0.604349                  0.022585   \n",
              "1                 -0.233246                  0.057460   \n",
              "2                  0.742759                  0.023492   \n",
              "3                  0.524002                  0.051111   \n",
              "4                  2.700198                  0.046848   \n",
              "\n",
              "   zero_crossing_rate_max_0  zero_crossing_rate_std_0  \\\n",
              "0                  0.102132                  0.017701   \n",
              "1                  0.229705                  0.035304   \n",
              "2                  0.178957                  0.032571   \n",
              "3                  0.277596                  0.045581   \n",
              "4                  0.235737                  0.030815   \n",
              "\n",
              "   zero_crossing_rate_mean_0  zero_crossing_rate_median_0  \\\n",
              "0                   0.072071                     0.074626   \n",
              "1                   0.147578                     0.157302   \n",
              "2                   0.077563                     0.066463   \n",
              "3                   0.147997                     0.142472   \n",
              "4                   0.097298                     0.090204   \n",
              "\n",
              "   zero_crossing_rate_kurtosis_0  \n",
              "0                       0.012681  \n",
              "1                      -0.281870  \n",
              "2                      -0.180427  \n",
              "3                      -0.344706  \n",
              "4                       7.939578  \n",
              "\n",
              "[5 rows x 518 columns]"
            ],
            "text/html": [
              "\n",
              "  <div id=\"df-80e0fc8e-daee-4da1-9981-4b3858051a25\">\n",
              "    <div class=\"colab-df-container\">\n",
              "      <div>\n",
              "<style scoped>\n",
              "    .dataframe tbody tr th:only-of-type {\n",
              "        vertical-align: middle;\n",
              "    }\n",
              "\n",
              "    .dataframe tbody tr th {\n",
              "        vertical-align: top;\n",
              "    }\n",
              "\n",
              "    .dataframe thead th {\n",
              "        text-align: right;\n",
              "    }\n",
              "</style>\n",
              "<table border=\"1\" class=\"dataframe\">\n",
              "  <thead>\n",
              "    <tr style=\"text-align: right;\">\n",
              "      <th></th>\n",
              "      <th>chroma_stft_kew_0</th>\n",
              "      <th>chroma_stft_min_0</th>\n",
              "      <th>chroma_stft_max_0</th>\n",
              "      <th>chroma_stft_std_0</th>\n",
              "      <th>chroma_stft_mean_0</th>\n",
              "      <th>chroma_stft_median_0</th>\n",
              "      <th>chroma_stft_kurtosis_0</th>\n",
              "      <th>chroma_stft_kew_1</th>\n",
              "      <th>chroma_stft_min_1</th>\n",
              "      <th>chroma_stft_max_1</th>\n",
              "      <th>...</th>\n",
              "      <th>tonnetz_mean_5</th>\n",
              "      <th>tonnetz_median_5</th>\n",
              "      <th>tonnetz_kurtosis_5</th>\n",
              "      <th>zero_crossing_rate_kew_0</th>\n",
              "      <th>zero_crossing_rate_min_0</th>\n",
              "      <th>zero_crossing_rate_max_0</th>\n",
              "      <th>zero_crossing_rate_std_0</th>\n",
              "      <th>zero_crossing_rate_mean_0</th>\n",
              "      <th>zero_crossing_rate_median_0</th>\n",
              "      <th>zero_crossing_rate_kurtosis_0</th>\n",
              "    </tr>\n",
              "  </thead>\n",
              "  <tbody>\n",
              "    <tr>\n",
              "      <th>0</th>\n",
              "      <td>0.091806</td>\n",
              "      <td>0.049545</td>\n",
              "      <td>1.0</td>\n",
              "      <td>0.306971</td>\n",
              "      <td>0.570429</td>\n",
              "      <td>0.556123</td>\n",
              "      <td>-1.389693</td>\n",
              "      <td>0.344998</td>\n",
              "      <td>0.035745</td>\n",
              "      <td>1.0</td>\n",
              "      <td>...</td>\n",
              "      <td>0.007217</td>\n",
              "      <td>-0.000351</td>\n",
              "      <td>-0.410349</td>\n",
              "      <td>-0.604349</td>\n",
              "      <td>0.022585</td>\n",
              "      <td>0.102132</td>\n",
              "      <td>0.017701</td>\n",
              "      <td>0.072071</td>\n",
              "      <td>0.074626</td>\n",
              "      <td>0.012681</td>\n",
              "    </tr>\n",
              "    <tr>\n",
              "      <th>1</th>\n",
              "      <td>1.025965</td>\n",
              "      <td>0.007265</td>\n",
              "      <td>1.0</td>\n",
              "      <td>0.274179</td>\n",
              "      <td>0.350277</td>\n",
              "      <td>0.265414</td>\n",
              "      <td>0.140231</td>\n",
              "      <td>0.379772</td>\n",
              "      <td>0.004221</td>\n",
              "      <td>1.0</td>\n",
              "      <td>...</td>\n",
              "      <td>-0.011851</td>\n",
              "      <td>-0.010293</td>\n",
              "      <td>0.099909</td>\n",
              "      <td>-0.233246</td>\n",
              "      <td>0.057460</td>\n",
              "      <td>0.229705</td>\n",
              "      <td>0.035304</td>\n",
              "      <td>0.147578</td>\n",
              "      <td>0.157302</td>\n",
              "      <td>-0.281870</td>\n",
              "    </tr>\n",
              "    <tr>\n",
              "      <th>2</th>\n",
              "      <td>1.395750</td>\n",
              "      <td>0.000648</td>\n",
              "      <td>1.0</td>\n",
              "      <td>0.307888</td>\n",
              "      <td>0.236975</td>\n",
              "      <td>0.087020</td>\n",
              "      <td>0.739644</td>\n",
              "      <td>1.646942</td>\n",
              "      <td>0.000456</td>\n",
              "      <td>1.0</td>\n",
              "      <td>...</td>\n",
              "      <td>0.001545</td>\n",
              "      <td>-0.009260</td>\n",
              "      <td>0.360879</td>\n",
              "      <td>0.742759</td>\n",
              "      <td>0.023492</td>\n",
              "      <td>0.178957</td>\n",
              "      <td>0.032571</td>\n",
              "      <td>0.077563</td>\n",
              "      <td>0.066463</td>\n",
              "      <td>-0.180427</td>\n",
              "    </tr>\n",
              "    <tr>\n",
              "      <th>3</th>\n",
              "      <td>0.926616</td>\n",
              "      <td>0.003467</td>\n",
              "      <td>1.0</td>\n",
              "      <td>0.242382</td>\n",
              "      <td>0.301311</td>\n",
              "      <td>0.262466</td>\n",
              "      <td>0.285644</td>\n",
              "      <td>0.843115</td>\n",
              "      <td>0.003586</td>\n",
              "      <td>1.0</td>\n",
              "      <td>...</td>\n",
              "      <td>-0.014834</td>\n",
              "      <td>-0.023444</td>\n",
              "      <td>0.456362</td>\n",
              "      <td>0.524002</td>\n",
              "      <td>0.051111</td>\n",
              "      <td>0.277596</td>\n",
              "      <td>0.045581</td>\n",
              "      <td>0.147997</td>\n",
              "      <td>0.142472</td>\n",
              "      <td>-0.344706</td>\n",
              "    </tr>\n",
              "    <tr>\n",
              "      <th>4</th>\n",
              "      <td>0.311976</td>\n",
              "      <td>0.037900</td>\n",
              "      <td>1.0</td>\n",
              "      <td>0.336300</td>\n",
              "      <td>0.517165</td>\n",
              "      <td>0.438171</td>\n",
              "      <td>-1.429111</td>\n",
              "      <td>0.892591</td>\n",
              "      <td>0.045833</td>\n",
              "      <td>1.0</td>\n",
              "      <td>...</td>\n",
              "      <td>0.005743</td>\n",
              "      <td>0.005232</td>\n",
              "      <td>-0.153372</td>\n",
              "      <td>2.700198</td>\n",
              "      <td>0.046848</td>\n",
              "      <td>0.235737</td>\n",
              "      <td>0.030815</td>\n",
              "      <td>0.097298</td>\n",
              "      <td>0.090204</td>\n",
              "      <td>7.939578</td>\n",
              "    </tr>\n",
              "  </tbody>\n",
              "</table>\n",
              "<p>5 rows × 518 columns</p>\n",
              "</div>\n",
              "      <button class=\"colab-df-convert\" onclick=\"convertToInteractive('df-80e0fc8e-daee-4da1-9981-4b3858051a25')\"\n",
              "              title=\"Convert this dataframe to an interactive table.\"\n",
              "              style=\"display:none;\">\n",
              "        \n",
              "  <svg xmlns=\"http://www.w3.org/2000/svg\" height=\"24px\"viewBox=\"0 0 24 24\"\n",
              "       width=\"24px\">\n",
              "    <path d=\"M0 0h24v24H0V0z\" fill=\"none\"/>\n",
              "    <path d=\"M18.56 5.44l.94 2.06.94-2.06 2.06-.94-2.06-.94-.94-2.06-.94 2.06-2.06.94zm-11 1L8.5 8.5l.94-2.06 2.06-.94-2.06-.94L8.5 2.5l-.94 2.06-2.06.94zm10 10l.94 2.06.94-2.06 2.06-.94-2.06-.94-.94-2.06-.94 2.06-2.06.94z\"/><path d=\"M17.41 7.96l-1.37-1.37c-.4-.4-.92-.59-1.43-.59-.52 0-1.04.2-1.43.59L10.3 9.45l-7.72 7.72c-.78.78-.78 2.05 0 2.83L4 21.41c.39.39.9.59 1.41.59.51 0 1.02-.2 1.41-.59l7.78-7.78 2.81-2.81c.8-.78.8-2.07 0-2.86zM5.41 20L4 18.59l7.72-7.72 1.47 1.35L5.41 20z\"/>\n",
              "  </svg>\n",
              "      </button>\n",
              "      \n",
              "  <style>\n",
              "    .colab-df-container {\n",
              "      display:flex;\n",
              "      flex-wrap:wrap;\n",
              "      gap: 12px;\n",
              "    }\n",
              "\n",
              "    .colab-df-convert {\n",
              "      background-color: #E8F0FE;\n",
              "      border: none;\n",
              "      border-radius: 50%;\n",
              "      cursor: pointer;\n",
              "      display: none;\n",
              "      fill: #1967D2;\n",
              "      height: 32px;\n",
              "      padding: 0 0 0 0;\n",
              "      width: 32px;\n",
              "    }\n",
              "\n",
              "    .colab-df-convert:hover {\n",
              "      background-color: #E2EBFA;\n",
              "      box-shadow: 0px 1px 2px rgba(60, 64, 67, 0.3), 0px 1px 3px 1px rgba(60, 64, 67, 0.15);\n",
              "      fill: #174EA6;\n",
              "    }\n",
              "\n",
              "    [theme=dark] .colab-df-convert {\n",
              "      background-color: #3B4455;\n",
              "      fill: #D2E3FC;\n",
              "    }\n",
              "\n",
              "    [theme=dark] .colab-df-convert:hover {\n",
              "      background-color: #434B5C;\n",
              "      box-shadow: 0px 1px 3px 1px rgba(0, 0, 0, 0.15);\n",
              "      filter: drop-shadow(0px 1px 2px rgba(0, 0, 0, 0.3));\n",
              "      fill: #FFFFFF;\n",
              "    }\n",
              "  </style>\n",
              "\n",
              "      <script>\n",
              "        const buttonEl =\n",
              "          document.querySelector('#df-80e0fc8e-daee-4da1-9981-4b3858051a25 button.colab-df-convert');\n",
              "        buttonEl.style.display =\n",
              "          google.colab.kernel.accessAllowed ? 'block' : 'none';\n",
              "\n",
              "        async function convertToInteractive(key) {\n",
              "          const element = document.querySelector('#df-80e0fc8e-daee-4da1-9981-4b3858051a25');\n",
              "          const dataTable =\n",
              "            await google.colab.kernel.invokeFunction('convertToInteractive',\n",
              "                                                     [key], {});\n",
              "          if (!dataTable) return;\n",
              "\n",
              "          const docLinkHtml = 'Like what you see? Visit the ' +\n",
              "            '<a target=\"_blank\" href=https://colab.research.google.com/notebooks/data_table.ipynb>data table notebook</a>'\n",
              "            + ' to learn more about interactive tables.';\n",
              "          element.innerHTML = '';\n",
              "          dataTable['output_type'] = 'display_data';\n",
              "          await google.colab.output.renderOutput(dataTable, element);\n",
              "          const docLink = document.createElement('div');\n",
              "          docLink.innerHTML = docLinkHtml;\n",
              "          element.appendChild(docLink);\n",
              "        }\n",
              "      </script>\n",
              "    </div>\n",
              "  </div>\n",
              "  "
            ]
          },
          "metadata": {},
          "execution_count": 75
        }
      ]
    },
    {
      "cell_type": "code",
      "source": [
        "# removing the outliers with the help of iqr method\n",
        "feature = df1 # one or more.\n",
        "for cols in feature:\n",
        "    Q1 = df1[cols].quantile(0.25)\n",
        "    Q3 = df1[cols].quantile(0.75)\n",
        "    IQR = Q3 - Q1\n",
        "    dff = df1[((df1[cols] < (Q1 - 1.5 * IQR)) |(df1[cols] > (Q3 + 1.5 * IQR)))]\n",
        "f=dff.index\n",
        "new_df = df.iloc[f]\n",
        "new_df.head()"
      ],
      "metadata": {
        "colab": {
          "base_uri": "https://localhost:8080/",
          "height": 612
        },
        "id": "U0bEYSen2Mto",
        "outputId": "6521ba9f-0759-44aa-b2d4-cd2982ce5b84"
      },
      "execution_count": 76,
      "outputs": [
        {
          "output_type": "execute_result",
          "data": {
            "text/plain": [
              "           Artist                Title  Label  \\\n",
              "4             BTS               Butter      1   \n",
              "6   Ariana Grande            Positions      1   \n",
              "10  Billie Eilish       Therefore I Am      1   \n",
              "27  Billie Eilish  Everything I Wanted      1   \n",
              "34   Travis Scott  HIGHEST IN THE ROOM      1   \n",
              "\n",
              "                                                 Path  \\\n",
              "4          Songs/BTS (방탄소년단) 'Butter' Official MV.mp3   \n",
              "6   Songs/Ariana Grande - positions (official vide...   \n",
              "10  Songs/Billie Eilish - Therefore I Am (Official...   \n",
              "27      Songs/Billie Eilish - everything i wanted.mp3   \n",
              "34  Songs/Travis Scott - HIGHEST IN THE ROOM (Offi...   \n",
              "\n",
              "                                           choruspath  chroma_stft_kew_0  \\\n",
              "4   Songs/RepeatedPopularChorus/BTS (방탄소년단) 'Butte...           0.311976   \n",
              "6   Songs/RepeatedPopularChorus/Ariana Grande - po...           0.625499   \n",
              "10  Songs/RepeatedPopularChorus/Billie Eilish - Th...           1.162719   \n",
              "27  Songs/RepeatedPopularChorus/Billie Eilish - ev...           2.054160   \n",
              "34  Songs/RepeatedPopularChorus/Travis Scott - HIG...          -0.262656   \n",
              "\n",
              "    chroma_stft_min_0  chroma_stft_max_0  chroma_stft_std_0  \\\n",
              "4            0.037900                1.0           0.336300   \n",
              "6            0.004906                1.0           0.349639   \n",
              "10           0.002263                1.0           0.287140   \n",
              "27           0.000891                1.0           0.214297   \n",
              "34           0.013173                1.0           0.248823   \n",
              "\n",
              "    chroma_stft_mean_0  ...  tonnetz_mean_5  tonnetz_median_5  \\\n",
              "4             0.517165  ...        0.005743          0.005232   \n",
              "6             0.401012  ...       -0.010469         -0.013594   \n",
              "10            0.314937  ...       -0.005514         -0.008329   \n",
              "27            0.193929  ...       -0.045801         -0.068198   \n",
              "34            0.613265  ...        0.001246          0.006099   \n",
              "\n",
              "    tonnetz_kurtosis_5  zero_crossing_rate_kew_0  zero_crossing_rate_min_0  \\\n",
              "4            -0.153372                  2.700198                  0.046848   \n",
              "6             0.965718                  1.482353                  0.046122   \n",
              "10            1.982250                  2.836909                  0.019819   \n",
              "27            1.039385                  2.654018                  0.017188   \n",
              "34            0.763980                  2.129763                  0.004444   \n",
              "\n",
              "    zero_crossing_rate_max_0  zero_crossing_rate_std_0  \\\n",
              "4                   0.235737                  0.030815   \n",
              "6                   0.253288                  0.031441   \n",
              "10                  0.239637                  0.043763   \n",
              "27                  0.110884                  0.020011   \n",
              "34                  0.163265                  0.033201   \n",
              "\n",
              "    zero_crossing_rate_mean_0  zero_crossing_rate_median_0  \\\n",
              "4                    0.097298                     0.090204   \n",
              "6                    0.129609                     0.122585   \n",
              "10                   0.057317                     0.042630   \n",
              "27                   0.033907                     0.029252   \n",
              "34                   0.043951                     0.033469   \n",
              "\n",
              "    zero_crossing_rate_kurtosis_0  \n",
              "4                        7.939578  \n",
              "6                        3.700731  \n",
              "10                       7.582306  \n",
              "27                       6.562822  \n",
              "34                       4.543320  \n",
              "\n",
              "[5 rows x 523 columns]"
            ],
            "text/html": [
              "\n",
              "  <div id=\"df-d8ac17e4-1a0a-49d5-b5f0-91898cfa6901\">\n",
              "    <div class=\"colab-df-container\">\n",
              "      <div>\n",
              "<style scoped>\n",
              "    .dataframe tbody tr th:only-of-type {\n",
              "        vertical-align: middle;\n",
              "    }\n",
              "\n",
              "    .dataframe tbody tr th {\n",
              "        vertical-align: top;\n",
              "    }\n",
              "\n",
              "    .dataframe thead th {\n",
              "        text-align: right;\n",
              "    }\n",
              "</style>\n",
              "<table border=\"1\" class=\"dataframe\">\n",
              "  <thead>\n",
              "    <tr style=\"text-align: right;\">\n",
              "      <th></th>\n",
              "      <th>Artist</th>\n",
              "      <th>Title</th>\n",
              "      <th>Label</th>\n",
              "      <th>Path</th>\n",
              "      <th>choruspath</th>\n",
              "      <th>chroma_stft_kew_0</th>\n",
              "      <th>chroma_stft_min_0</th>\n",
              "      <th>chroma_stft_max_0</th>\n",
              "      <th>chroma_stft_std_0</th>\n",
              "      <th>chroma_stft_mean_0</th>\n",
              "      <th>...</th>\n",
              "      <th>tonnetz_mean_5</th>\n",
              "      <th>tonnetz_median_5</th>\n",
              "      <th>tonnetz_kurtosis_5</th>\n",
              "      <th>zero_crossing_rate_kew_0</th>\n",
              "      <th>zero_crossing_rate_min_0</th>\n",
              "      <th>zero_crossing_rate_max_0</th>\n",
              "      <th>zero_crossing_rate_std_0</th>\n",
              "      <th>zero_crossing_rate_mean_0</th>\n",
              "      <th>zero_crossing_rate_median_0</th>\n",
              "      <th>zero_crossing_rate_kurtosis_0</th>\n",
              "    </tr>\n",
              "  </thead>\n",
              "  <tbody>\n",
              "    <tr>\n",
              "      <th>4</th>\n",
              "      <td>BTS</td>\n",
              "      <td>Butter</td>\n",
              "      <td>1</td>\n",
              "      <td>Songs/BTS (방탄소년단) 'Butter' Official MV.mp3</td>\n",
              "      <td>Songs/RepeatedPopularChorus/BTS (방탄소년단) 'Butte...</td>\n",
              "      <td>0.311976</td>\n",
              "      <td>0.037900</td>\n",
              "      <td>1.0</td>\n",
              "      <td>0.336300</td>\n",
              "      <td>0.517165</td>\n",
              "      <td>...</td>\n",
              "      <td>0.005743</td>\n",
              "      <td>0.005232</td>\n",
              "      <td>-0.153372</td>\n",
              "      <td>2.700198</td>\n",
              "      <td>0.046848</td>\n",
              "      <td>0.235737</td>\n",
              "      <td>0.030815</td>\n",
              "      <td>0.097298</td>\n",
              "      <td>0.090204</td>\n",
              "      <td>7.939578</td>\n",
              "    </tr>\n",
              "    <tr>\n",
              "      <th>6</th>\n",
              "      <td>Ariana Grande</td>\n",
              "      <td>Positions</td>\n",
              "      <td>1</td>\n",
              "      <td>Songs/Ariana Grande - positions (official vide...</td>\n",
              "      <td>Songs/RepeatedPopularChorus/Ariana Grande - po...</td>\n",
              "      <td>0.625499</td>\n",
              "      <td>0.004906</td>\n",
              "      <td>1.0</td>\n",
              "      <td>0.349639</td>\n",
              "      <td>0.401012</td>\n",
              "      <td>...</td>\n",
              "      <td>-0.010469</td>\n",
              "      <td>-0.013594</td>\n",
              "      <td>0.965718</td>\n",
              "      <td>1.482353</td>\n",
              "      <td>0.046122</td>\n",
              "      <td>0.253288</td>\n",
              "      <td>0.031441</td>\n",
              "      <td>0.129609</td>\n",
              "      <td>0.122585</td>\n",
              "      <td>3.700731</td>\n",
              "    </tr>\n",
              "    <tr>\n",
              "      <th>10</th>\n",
              "      <td>Billie Eilish</td>\n",
              "      <td>Therefore I Am</td>\n",
              "      <td>1</td>\n",
              "      <td>Songs/Billie Eilish - Therefore I Am (Official...</td>\n",
              "      <td>Songs/RepeatedPopularChorus/Billie Eilish - Th...</td>\n",
              "      <td>1.162719</td>\n",
              "      <td>0.002263</td>\n",
              "      <td>1.0</td>\n",
              "      <td>0.287140</td>\n",
              "      <td>0.314937</td>\n",
              "      <td>...</td>\n",
              "      <td>-0.005514</td>\n",
              "      <td>-0.008329</td>\n",
              "      <td>1.982250</td>\n",
              "      <td>2.836909</td>\n",
              "      <td>0.019819</td>\n",
              "      <td>0.239637</td>\n",
              "      <td>0.043763</td>\n",
              "      <td>0.057317</td>\n",
              "      <td>0.042630</td>\n",
              "      <td>7.582306</td>\n",
              "    </tr>\n",
              "    <tr>\n",
              "      <th>27</th>\n",
              "      <td>Billie Eilish</td>\n",
              "      <td>Everything I Wanted</td>\n",
              "      <td>1</td>\n",
              "      <td>Songs/Billie Eilish - everything i wanted.mp3</td>\n",
              "      <td>Songs/RepeatedPopularChorus/Billie Eilish - ev...</td>\n",
              "      <td>2.054160</td>\n",
              "      <td>0.000891</td>\n",
              "      <td>1.0</td>\n",
              "      <td>0.214297</td>\n",
              "      <td>0.193929</td>\n",
              "      <td>...</td>\n",
              "      <td>-0.045801</td>\n",
              "      <td>-0.068198</td>\n",
              "      <td>1.039385</td>\n",
              "      <td>2.654018</td>\n",
              "      <td>0.017188</td>\n",
              "      <td>0.110884</td>\n",
              "      <td>0.020011</td>\n",
              "      <td>0.033907</td>\n",
              "      <td>0.029252</td>\n",
              "      <td>6.562822</td>\n",
              "    </tr>\n",
              "    <tr>\n",
              "      <th>34</th>\n",
              "      <td>Travis Scott</td>\n",
              "      <td>HIGHEST IN THE ROOM</td>\n",
              "      <td>1</td>\n",
              "      <td>Songs/Travis Scott - HIGHEST IN THE ROOM (Offi...</td>\n",
              "      <td>Songs/RepeatedPopularChorus/Travis Scott - HIG...</td>\n",
              "      <td>-0.262656</td>\n",
              "      <td>0.013173</td>\n",
              "      <td>1.0</td>\n",
              "      <td>0.248823</td>\n",
              "      <td>0.613265</td>\n",
              "      <td>...</td>\n",
              "      <td>0.001246</td>\n",
              "      <td>0.006099</td>\n",
              "      <td>0.763980</td>\n",
              "      <td>2.129763</td>\n",
              "      <td>0.004444</td>\n",
              "      <td>0.163265</td>\n",
              "      <td>0.033201</td>\n",
              "      <td>0.043951</td>\n",
              "      <td>0.033469</td>\n",
              "      <td>4.543320</td>\n",
              "    </tr>\n",
              "  </tbody>\n",
              "</table>\n",
              "<p>5 rows × 523 columns</p>\n",
              "</div>\n",
              "      <button class=\"colab-df-convert\" onclick=\"convertToInteractive('df-d8ac17e4-1a0a-49d5-b5f0-91898cfa6901')\"\n",
              "              title=\"Convert this dataframe to an interactive table.\"\n",
              "              style=\"display:none;\">\n",
              "        \n",
              "  <svg xmlns=\"http://www.w3.org/2000/svg\" height=\"24px\"viewBox=\"0 0 24 24\"\n",
              "       width=\"24px\">\n",
              "    <path d=\"M0 0h24v24H0V0z\" fill=\"none\"/>\n",
              "    <path d=\"M18.56 5.44l.94 2.06.94-2.06 2.06-.94-2.06-.94-.94-2.06-.94 2.06-2.06.94zm-11 1L8.5 8.5l.94-2.06 2.06-.94-2.06-.94L8.5 2.5l-.94 2.06-2.06.94zm10 10l.94 2.06.94-2.06 2.06-.94-2.06-.94-.94-2.06-.94 2.06-2.06.94z\"/><path d=\"M17.41 7.96l-1.37-1.37c-.4-.4-.92-.59-1.43-.59-.52 0-1.04.2-1.43.59L10.3 9.45l-7.72 7.72c-.78.78-.78 2.05 0 2.83L4 21.41c.39.39.9.59 1.41.59.51 0 1.02-.2 1.41-.59l7.78-7.78 2.81-2.81c.8-.78.8-2.07 0-2.86zM5.41 20L4 18.59l7.72-7.72 1.47 1.35L5.41 20z\"/>\n",
              "  </svg>\n",
              "      </button>\n",
              "      \n",
              "  <style>\n",
              "    .colab-df-container {\n",
              "      display:flex;\n",
              "      flex-wrap:wrap;\n",
              "      gap: 12px;\n",
              "    }\n",
              "\n",
              "    .colab-df-convert {\n",
              "      background-color: #E8F0FE;\n",
              "      border: none;\n",
              "      border-radius: 50%;\n",
              "      cursor: pointer;\n",
              "      display: none;\n",
              "      fill: #1967D2;\n",
              "      height: 32px;\n",
              "      padding: 0 0 0 0;\n",
              "      width: 32px;\n",
              "    }\n",
              "\n",
              "    .colab-df-convert:hover {\n",
              "      background-color: #E2EBFA;\n",
              "      box-shadow: 0px 1px 2px rgba(60, 64, 67, 0.3), 0px 1px 3px 1px rgba(60, 64, 67, 0.15);\n",
              "      fill: #174EA6;\n",
              "    }\n",
              "\n",
              "    [theme=dark] .colab-df-convert {\n",
              "      background-color: #3B4455;\n",
              "      fill: #D2E3FC;\n",
              "    }\n",
              "\n",
              "    [theme=dark] .colab-df-convert:hover {\n",
              "      background-color: #434B5C;\n",
              "      box-shadow: 0px 1px 3px 1px rgba(0, 0, 0, 0.15);\n",
              "      filter: drop-shadow(0px 1px 2px rgba(0, 0, 0, 0.3));\n",
              "      fill: #FFFFFF;\n",
              "    }\n",
              "  </style>\n",
              "\n",
              "      <script>\n",
              "        const buttonEl =\n",
              "          document.querySelector('#df-d8ac17e4-1a0a-49d5-b5f0-91898cfa6901 button.colab-df-convert');\n",
              "        buttonEl.style.display =\n",
              "          google.colab.kernel.accessAllowed ? 'block' : 'none';\n",
              "\n",
              "        async function convertToInteractive(key) {\n",
              "          const element = document.querySelector('#df-d8ac17e4-1a0a-49d5-b5f0-91898cfa6901');\n",
              "          const dataTable =\n",
              "            await google.colab.kernel.invokeFunction('convertToInteractive',\n",
              "                                                     [key], {});\n",
              "          if (!dataTable) return;\n",
              "\n",
              "          const docLinkHtml = 'Like what you see? Visit the ' +\n",
              "            '<a target=\"_blank\" href=https://colab.research.google.com/notebooks/data_table.ipynb>data table notebook</a>'\n",
              "            + ' to learn more about interactive tables.';\n",
              "          element.innerHTML = '';\n",
              "          dataTable['output_type'] = 'display_data';\n",
              "          await google.colab.output.renderOutput(dataTable, element);\n",
              "          const docLink = document.createElement('div');\n",
              "          docLink.innerHTML = docLinkHtml;\n",
              "          element.appendChild(docLink);\n",
              "        }\n",
              "      </script>\n",
              "    </div>\n",
              "  </div>\n",
              "  "
            ]
          },
          "metadata": {},
          "execution_count": 76
        }
      ]
    },
    {
      "cell_type": "code",
      "source": [
        "# feature columns\n",
        "x = new_df.iloc[:,5:]\n",
        "\n",
        "# target column\n",
        "y = new_df['Label'] "
      ],
      "metadata": {
        "id": "BIe_MIrH2RbZ"
      },
      "execution_count": 77,
      "outputs": []
    },
    {
      "cell_type": "code",
      "source": [
        "# Balance imbalanced dataset\n",
        "from imblearn.over_sampling import RandomOverSampler\n",
        "from imblearn.combine import SMOTETomek\n",
        "\n",
        "#os =  RandomOverSampler(sampling_strategy=1)\n",
        "os =  SMOTETomek(sampling_strategy=1)\n",
        "\n",
        "X_res, y_res = os.fit_resample(x, y)\n",
        "X_res.shape,y_res.shape"
      ],
      "metadata": {
        "colab": {
          "base_uri": "https://localhost:8080/"
        },
        "id": "vX7DdvQWFU9M",
        "outputId": "0a89e82d-872a-47b8-b421-b11aa6af4dee"
      },
      "execution_count": 78,
      "outputs": [
        {
          "output_type": "execute_result",
          "data": {
            "text/plain": [
              "((54, 518), (54,))"
            ]
          },
          "metadata": {},
          "execution_count": 78
        }
      ]
    },
    {
      "cell_type": "code",
      "source": [
        "from collections import Counter\n",
        "print('Original dataset shape {}'.format(Counter(y)))\n",
        "print('Resampled dataset shape {}'.format(Counter(y_res)))"
      ],
      "metadata": {
        "colab": {
          "base_uri": "https://localhost:8080/"
        },
        "id": "J4tRPQ_yFV-i",
        "outputId": "5db90fac-c888-45d3-d598-396b74a5db4f"
      },
      "execution_count": 79,
      "outputs": [
        {
          "output_type": "stream",
          "name": "stdout",
          "text": [
            "Original dataset shape Counter({1: 28, 0: 13})\n",
            "Resampled dataset shape Counter({1: 27, 0: 27})\n"
          ]
        }
      ]
    },
    {
      "cell_type": "code",
      "source": [
        "# Normalization\n",
        "#x_re = x_res.apply(lambda x_res: (x_res - x_res.min(axis=0)) / (x_res.max(axis=0) - x_res.min(axis=0)))"
      ],
      "metadata": {
        "id": "iORxA2ph7d6z"
      },
      "execution_count": null,
      "outputs": []
    },
    {
      "cell_type": "code",
      "source": [
        "# Splitting the data into train and test \n",
        "\n",
        "from sklearn.model_selection import train_test_split\n",
        "X_train, X_test, y_train, y_test = train_test_split(X_res,y_res,test_size=0.2,random_state=0)\n",
        "\n",
        "print(\" Training data: \",X_train.shape)\n",
        "print(\" Testing data:  \",X_test.shape)"
      ],
      "metadata": {
        "colab": {
          "base_uri": "https://localhost:8080/"
        },
        "id": "SRnzUW2W2X3G",
        "outputId": "ff8a1714-1a40-4661-80ed-4e67c2525f47"
      },
      "execution_count": 80,
      "outputs": [
        {
          "output_type": "stream",
          "name": "stdout",
          "text": [
            " Training data:  (43, 518)\n",
            " Testing data:   (11, 518)\n"
          ]
        }
      ]
    },
    {
      "cell_type": "code",
      "source": [
        "from sklearn.feature_selection import mutual_info_classif\n",
        "# determine the mutual information\n",
        "mutual_info = mutual_info_classif(X_train, y_train)\n",
        "mutual_info"
      ],
      "metadata": {
        "colab": {
          "base_uri": "https://localhost:8080/"
        },
        "id": "lk2Hmh_H2c69",
        "outputId": "82509369-3545-4763-b5ce-8a750e0c2081"
      },
      "execution_count": 81,
      "outputs": [
        {
          "output_type": "execute_result",
          "data": {
            "text/plain": [
              "array([6.92419159e-02, 2.27495839e-02, 0.00000000e+00, 1.68894880e-02,\n",
              "       4.15203481e-02, 0.00000000e+00, 0.00000000e+00, 0.00000000e+00,\n",
              "       1.62535606e-02, 1.10445383e-01, 4.99368897e-02, 0.00000000e+00,\n",
              "       4.25651371e-03, 7.73082682e-02, 0.00000000e+00, 1.36490817e-01,\n",
              "       0.00000000e+00, 0.00000000e+00, 0.00000000e+00, 0.00000000e+00,\n",
              "       6.42509766e-02, 0.00000000e+00, 6.83834075e-02, 0.00000000e+00,\n",
              "       3.37561903e-01, 1.28001438e-01, 7.90996293e-02, 1.14090381e-01,\n",
              "       0.00000000e+00, 1.74468446e-03, 0.00000000e+00, 0.00000000e+00,\n",
              "       0.00000000e+00, 0.00000000e+00, 8.85957533e-02, 1.68245561e-01,\n",
              "       3.90294927e-02, 0.00000000e+00, 6.59196568e-02, 1.03783343e-01,\n",
              "       1.86998384e-01, 1.10321134e-01, 0.00000000e+00, 3.63993709e-02,\n",
              "       8.23838773e-02, 6.26080459e-02, 9.38755838e-03, 1.94994749e-02,\n",
              "       1.06287364e-01, 0.00000000e+00, 0.00000000e+00, 0.00000000e+00,\n",
              "       2.04889247e-02, 3.83281269e-02, 4.79176657e-03, 0.00000000e+00,\n",
              "       2.04684832e-01, 9.36252845e-02, 2.68461979e-02, 4.96076742e-02,\n",
              "       1.79936202e-01, 1.81061108e-01, 2.75366273e-01, 0.00000000e+00,\n",
              "       0.00000000e+00, 1.34312052e-01, 4.09160428e-02, 1.64306445e-02,\n",
              "       1.93460108e-02, 0.00000000e+00, 9.09713170e-02, 0.00000000e+00,\n",
              "       0.00000000e+00, 2.05929233e-03, 1.02744524e-01, 1.22156088e-01,\n",
              "       1.38472395e-01, 1.11570679e-01, 0.00000000e+00, 2.88966023e-02,\n",
              "       1.28474060e-02, 1.62725984e-02, 5.39240297e-02, 0.00000000e+00,\n",
              "       5.56483389e-02, 7.59803971e-02, 8.82635274e-02, 6.46553526e-02,\n",
              "       0.00000000e+00, 6.86657156e-02, 1.29617587e-01, 1.22943382e-01,\n",
              "       3.73037636e-02, 7.14048047e-02, 3.85884936e-03, 0.00000000e+00,\n",
              "       1.32781800e-01, 0.00000000e+00, 9.61173015e-02, 1.53206434e-02,\n",
              "       0.00000000e+00, 0.00000000e+00, 0.00000000e+00, 0.00000000e+00,\n",
              "       8.72495543e-02, 3.76533268e-01, 1.37526377e-02, 3.96489636e-02,\n",
              "       0.00000000e+00, 0.00000000e+00, 0.00000000e+00, 0.00000000e+00,\n",
              "       1.91580205e-02, 6.64641381e-02, 0.00000000e+00, 0.00000000e+00,\n",
              "       0.00000000e+00, 0.00000000e+00, 1.12238325e-01, 0.00000000e+00,\n",
              "       7.60042984e-05, 0.00000000e+00, 2.33420470e-02, 9.21976751e-03,\n",
              "       1.73645587e-01, 0.00000000e+00, 5.89354265e-02, 0.00000000e+00,\n",
              "       0.00000000e+00, 0.00000000e+00, 0.00000000e+00, 1.65995163e-01,\n",
              "       7.98552690e-02, 1.13992901e-01, 1.27159967e-01, 0.00000000e+00,\n",
              "       4.11968344e-02, 2.49730087e-01, 1.39685039e-01, 7.70676819e-02,\n",
              "       1.11954823e-01, 5.82054717e-02, 2.14567553e-02, 1.92849252e-01,\n",
              "       1.31931100e-01, 1.55437761e-01, 9.59777769e-02, 1.15185024e-02,\n",
              "       1.91825727e-01, 0.00000000e+00, 6.00898277e-02, 2.29347347e-02,\n",
              "       6.29212340e-02, 1.68277367e-01, 6.66042435e-02, 2.99486510e-02,\n",
              "       0.00000000e+00, 0.00000000e+00, 0.00000000e+00, 0.00000000e+00,\n",
              "       8.91008038e-02, 9.16117941e-02, 6.90682524e-02, 4.98629099e-02,\n",
              "       1.58808002e-01, 0.00000000e+00, 0.00000000e+00, 7.15968607e-02,\n",
              "       0.00000000e+00, 0.00000000e+00, 5.22810989e-02, 4.38015294e-02,\n",
              "       3.72942770e-02, 8.96948480e-02, 6.26631587e-02, 2.98001561e-02,\n",
              "       3.06497587e-02, 0.00000000e+00, 0.00000000e+00, 1.42823309e-01,\n",
              "       3.31864985e-02, 0.00000000e+00, 1.39978350e-01, 0.00000000e+00,\n",
              "       0.00000000e+00, 1.26228469e-01, 0.00000000e+00, 2.61470908e-02,\n",
              "       1.98048543e-02, 0.00000000e+00, 3.81989279e-02, 1.34761055e-02,\n",
              "       6.93294158e-02, 1.31139127e-01, 0.00000000e+00, 4.08181433e-02,\n",
              "       8.29848267e-02, 1.36777739e-01, 2.97207464e-03, 0.00000000e+00,\n",
              "       0.00000000e+00, 7.49929478e-02, 0.00000000e+00, 6.25697121e-02,\n",
              "       7.56210665e-02, 8.63608117e-03, 1.25025958e-02, 2.27051907e-01,\n",
              "       7.37007000e-02, 0.00000000e+00, 0.00000000e+00, 7.01085557e-02,\n",
              "       9.06727461e-02, 4.42150694e-02, 0.00000000e+00, 0.00000000e+00,\n",
              "       1.44639580e-01, 2.01571602e-01, 1.09357937e-01, 1.76730713e-02,\n",
              "       2.58520080e-01, 1.96760199e-01, 2.50897082e-01, 0.00000000e+00,\n",
              "       8.08496880e-02, 1.67654614e-01, 1.33842819e-01, 2.40589335e-02,\n",
              "       2.46081226e-01, 4.82294658e-02, 0.00000000e+00, 1.76670018e-01,\n",
              "       3.35939076e-02, 1.19842930e-01, 1.33899513e-02, 2.25845897e-01,\n",
              "       7.88684005e-02, 1.12349906e-01, 1.75102012e-01, 2.11368330e-01,\n",
              "       6.26066261e-02, 1.24391998e-01, 1.49845292e-01, 1.28684347e-01,\n",
              "       2.16762303e-01, 0.00000000e+00, 0.00000000e+00, 6.48583795e-02,\n",
              "       0.00000000e+00, 2.08390881e-01, 0.00000000e+00, 0.00000000e+00,\n",
              "       0.00000000e+00, 1.93948863e-01, 6.04756821e-02, 8.00328374e-03,\n",
              "       0.00000000e+00, 0.00000000e+00, 4.45103813e-02, 0.00000000e+00,\n",
              "       0.00000000e+00, 0.00000000e+00, 0.00000000e+00, 9.83293014e-02,\n",
              "       1.21715153e-01, 0.00000000e+00, 8.46090423e-02, 1.38071698e-02,\n",
              "       9.60154654e-02, 9.44769845e-02, 1.62222191e-01, 2.24239115e-01,\n",
              "       7.39241845e-02, 0.00000000e+00, 7.26500393e-03, 3.43630729e-04,\n",
              "       6.48696086e-02, 0.00000000e+00, 0.00000000e+00, 1.04992857e-01,\n",
              "       0.00000000e+00, 0.00000000e+00, 1.59083018e-01, 2.71339593e-02,\n",
              "       1.64875062e-01, 1.72462403e-01, 0.00000000e+00, 0.00000000e+00,\n",
              "       1.10587586e-01, 1.21661460e-01, 3.47480506e-02, 1.35282723e-01,\n",
              "       1.62339581e-01, 1.14823143e-01, 0.00000000e+00, 0.00000000e+00,\n",
              "       8.46261441e-02, 5.27950553e-02, 5.82608427e-02, 2.57027032e-02,\n",
              "       1.56340218e-01, 0.00000000e+00, 2.12801264e-01, 7.10062369e-02,\n",
              "       2.02100692e-02, 3.04620911e-02, 0.00000000e+00, 3.69505638e-02,\n",
              "       0.00000000e+00, 1.88427962e-01, 2.39043078e-02, 0.00000000e+00,\n",
              "       1.82075133e-01, 2.25780716e-01, 0.00000000e+00, 7.47429394e-02,\n",
              "       7.88569133e-02, 1.45985263e-01, 1.11837596e-02, 3.12418023e-02,\n",
              "       9.26915283e-02, 6.29027770e-02, 4.72151700e-02, 0.00000000e+00,\n",
              "       5.38403924e-02, 8.59763443e-02, 2.10892933e-02, 1.01532429e-01,\n",
              "       5.43303417e-02, 6.34464194e-02, 6.27190460e-02, 4.16574203e-02,\n",
              "       0.00000000e+00, 1.99322352e-01, 1.75262740e-01, 1.40884163e-01,\n",
              "       1.77039996e-01, 4.67076027e-02, 1.26221763e-01, 0.00000000e+00,\n",
              "       5.53466381e-02, 4.95125497e-02, 6.64012166e-02, 1.65412670e-01,\n",
              "       2.40331841e-02, 5.73386383e-02, 6.13347714e-02, 1.58417224e-01,\n",
              "       1.12707637e-01, 6.99220497e-02, 3.09168043e-02, 1.52632298e-01,\n",
              "       8.18624805e-02, 4.00999984e-02, 2.87743464e-04, 9.36631020e-02,\n",
              "       2.66817629e-02, 1.48884689e-01, 1.70925149e-02, 1.09838658e-01,\n",
              "       0.00000000e+00, 0.00000000e+00, 0.00000000e+00, 0.00000000e+00,\n",
              "       1.18999633e-01, 2.28611649e-02, 4.27667761e-02, 0.00000000e+00,\n",
              "       8.00043447e-02, 4.59427990e-02, 2.00804217e-01, 0.00000000e+00,\n",
              "       0.00000000e+00, 1.75010566e-01, 6.61151331e-02, 0.00000000e+00,\n",
              "       7.92022726e-03, 1.15193413e-02, 0.00000000e+00, 2.49862362e-02,\n",
              "       0.00000000e+00, 0.00000000e+00, 1.68816792e-02, 0.00000000e+00,\n",
              "       1.02936839e-01, 1.29027770e-02, 5.17936347e-03, 1.19540067e-01,\n",
              "       0.00000000e+00, 0.00000000e+00, 0.00000000e+00, 1.37755121e-01,\n",
              "       6.69918404e-02, 8.42382245e-02, 0.00000000e+00, 4.81299529e-02,\n",
              "       1.53167874e-01, 6.74613967e-02, 8.35659640e-02, 1.68849672e-01,\n",
              "       1.58989894e-01, 5.06573996e-02, 6.64759480e-02, 1.21919019e-01,\n",
              "       6.79415367e-02, 4.49254055e-02, 6.50244925e-02, 4.86632052e-02,\n",
              "       5.65913236e-02, 0.00000000e+00, 1.04791767e-01, 1.86602398e-01,\n",
              "       5.03086856e-03, 2.78226591e-01, 8.38887032e-02, 5.18383892e-02,\n",
              "       3.19503961e-02, 2.02072720e-01, 1.90932246e-01, 2.11697006e-01,\n",
              "       1.48304455e-01, 5.64050757e-02, 1.91311739e-02, 2.28242509e-02,\n",
              "       0.00000000e+00, 0.00000000e+00, 1.07034614e-01, 6.52205497e-02,\n",
              "       2.77154924e-01, 0.00000000e+00, 6.73223884e-02, 0.00000000e+00,\n",
              "       0.00000000e+00, 4.46860454e-02, 0.00000000e+00, 1.81332926e-01,\n",
              "       0.00000000e+00, 1.83980407e-01, 2.86474329e-02, 1.15101128e-02,\n",
              "       5.14233649e-02, 5.51424495e-02, 1.59293595e-01, 6.52303590e-02,\n",
              "       1.72648070e-01, 0.00000000e+00, 0.00000000e+00, 7.30801320e-02,\n",
              "       0.00000000e+00, 3.32985957e-02, 0.00000000e+00, 1.37921234e-01,\n",
              "       3.59740210e-02, 2.39207642e-02, 4.44365533e-02, 1.96522194e-01,\n",
              "       2.49921089e-02, 8.91578527e-02, 6.92981258e-02, 9.33744371e-02,\n",
              "       2.69307354e-01, 0.00000000e+00, 1.13936369e-01, 3.77928740e-02,\n",
              "       1.34968115e-01, 0.00000000e+00, 0.00000000e+00, 6.79977466e-02,\n",
              "       1.17584433e-02, 2.11679485e-01, 1.55974983e-02, 0.00000000e+00,\n",
              "       2.93672557e-02, 0.00000000e+00, 7.20063082e-04, 0.00000000e+00,\n",
              "       7.20211135e-02, 1.11925976e-01, 0.00000000e+00, 2.04302656e-01,\n",
              "       1.60978378e-02, 4.25097979e-02, 2.07131610e-01, 7.75374963e-02,\n",
              "       5.35526310e-02, 0.00000000e+00, 7.25926995e-02, 1.53499841e-01,\n",
              "       1.58739627e-01, 2.76147091e-01, 0.00000000e+00, 5.13864510e-02,\n",
              "       0.00000000e+00, 7.24274255e-02, 0.00000000e+00, 0.00000000e+00,\n",
              "       2.02225405e-01, 1.37476588e-01, 8.72864683e-02, 0.00000000e+00,\n",
              "       1.21089293e-01, 7.98482674e-03, 0.00000000e+00, 3.14011616e-01,\n",
              "       1.93488599e-01, 0.00000000e+00, 2.48813669e-02, 1.00092783e-01,\n",
              "       5.85653831e-02, 1.19246208e-02, 2.53531819e-02, 2.00280161e-02,\n",
              "       8.98044283e-02, 0.00000000e+00, 1.13632667e-01, 0.00000000e+00,\n",
              "       0.00000000e+00, 2.71325201e-01])"
            ]
          },
          "metadata": {},
          "execution_count": 81
        }
      ]
    },
    {
      "cell_type": "code",
      "source": [
        "# Feature importance from highest to lowest\n",
        "mutual_info = pd.Series(mutual_info)\n",
        "mutual_info.index = X_train.columns\n",
        "mutual_info.sort_values(ascending=False)"
      ],
      "metadata": {
        "colab": {
          "base_uri": "https://localhost:8080/"
        },
        "id": "V9n_Y3hP22nY",
        "outputId": "fb65e2d9-7f0a-4ae0-840e-f6beddd3cf2b"
      },
      "execution_count": 82,
      "outputs": [
        {
          "output_type": "execute_result",
          "data": {
            "text/plain": [
              "chroma_cqt_kew_3           0.376533\n",
              "chroma_stft_std_3          0.337562\n",
              "tonnetz_kurtosis_4         0.314012\n",
              "spectral_contrast_kew_0    0.278227\n",
              "spectral_contrast_min_2    0.277155\n",
              "                             ...   \n",
              "mfcc_median_3              0.000000\n",
              "chroma_stft_min_9          0.000000\n",
              "mfcc_mean_3                0.000000\n",
              "mfcc_kew_3                 0.000000\n",
              "mfcc_kew_1                 0.000000\n",
              "Length: 518, dtype: float64"
            ]
          },
          "metadata": {},
          "execution_count": 82
        }
      ]
    },
    {
      "cell_type": "code",
      "source": [
        "from sklearn.feature_selection import SelectKBest\n",
        "# Select the top 25 important features\n",
        "sel_five_cols = SelectKBest(mutual_info_classif, k=25)\n",
        "sel_five_cols.fit(X_train, y_train)\n",
        "best=X_train.columns[sel_five_cols.get_support()]\n",
        "print(best)"
      ],
      "metadata": {
        "colab": {
          "base_uri": "https://localhost:8080/"
        },
        "id": "QMW28pY929Su",
        "outputId": "8be85522-3264-420c-d257-29a4d4e29518"
      },
      "execution_count": 83,
      "outputs": [
        {
          "output_type": "stream",
          "name": "stdout",
          "text": [
            "Index(['chroma_stft_std_3', 'chroma_stft_kurtosis_8', 'chroma_cqt_kew_3',\n",
            "       'chroma_cqt_mean_7', 'chroma_cens_mean_5', 'chroma_cens_std_7',\n",
            "       'chroma_cens_median_7', 'chroma_cens_min_8', 'chroma_cens_mean_8',\n",
            "       'chroma_cens_mean_9', 'chroma_cens_min_10', 'chroma_cens_kurtosis_10',\n",
            "       'chroma_cens_mean_11', 'mfcc_median_2', 'mfcc_min_7', 'mfcc_median_8',\n",
            "       'spectral_contrast_kew_0', 'spectral_contrast_kurtosis_0',\n",
            "       'spectral_contrast_min_2', 'spectral_contrast_median_6',\n",
            "       'tonnetz_kew_0', 'tonnetz_kurtosis_1', 'tonnetz_kurtosis_2',\n",
            "       'tonnetz_kurtosis_4', 'zero_crossing_rate_kurtosis_0'],\n",
            "      dtype='object')\n"
          ]
        }
      ]
    },
    {
      "cell_type": "code",
      "source": [
        "# List of features\n",
        "be = list(best)"
      ],
      "metadata": {
        "id": "xNOnYDAJ3WcJ"
      },
      "execution_count": 94,
      "outputs": []
    },
    {
      "cell_type": "code",
      "source": [
        "x_train = X_train[be]\n",
        "x_test = X_test[be]\n",
        "\n"
      ],
      "metadata": {
        "id": "nkyp5ouM3sK-"
      },
      "execution_count": 85,
      "outputs": []
    },
    {
      "cell_type": "code",
      "source": [
        "# Normalization\n",
        "from sklearn.preprocessing import MinMaxScaler\n",
        "\n",
        "# fit scaler on training data\n",
        "norm = MinMaxScaler().fit(x_train)\n",
        "\n",
        "# transform training data\n",
        "x1_train = norm.transform(x_train)\n",
        "\n",
        "# transform testing dataabs\n",
        "x1_test = norm.transform(x_test)"
      ],
      "metadata": {
        "id": "YpCdkOZdNY5d"
      },
      "execution_count": 86,
      "outputs": []
    },
    {
      "cell_type": "markdown",
      "source": [
        "# **Logistic Regression**"
      ],
      "metadata": {
        "id": "fnFgFefPGbRG"
      }
    },
    {
      "cell_type": "code",
      "source": [
        "from sklearn.linear_model import LogisticRegression\n",
        "from sklearn.metrics import accuracy_score, classification_report, confusion_matrix\n",
        "from sklearn.model_selection import KFold\n",
        "from sklearn.model_selection import GridSearchCV"
      ],
      "metadata": {
        "id": "batxFsQz3-0Q"
      },
      "execution_count": 87,
      "outputs": []
    },
    {
      "cell_type": "code",
      "source": [
        "# GridSearchCV For Hyperparameter Tuning\n",
        "log = LogisticRegression()\n",
        "grid={'C': 10.0**np.arange(-3,3), 'penalty':['l1','l2']}\n",
        "cv= KFold(n_splits = 5, random_state=None, shuffle=False)"
      ],
      "metadata": {
        "id": "aSMMEKzV4OYJ"
      },
      "execution_count": 88,
      "outputs": []
    },
    {
      "cell_type": "code",
      "source": [
        "clf = GridSearchCV(log, grid, cv=cv, n_jobs=-1, scoring='f1_macro')\n",
        "clf.fit(x1_train,y_train)"
      ],
      "metadata": {
        "colab": {
          "base_uri": "https://localhost:8080/"
        },
        "id": "qXOI-vwI4Rlt",
        "outputId": "daba585d-baf0-466e-abe9-cfaea2f8ff49"
      },
      "execution_count": 89,
      "outputs": [
        {
          "output_type": "execute_result",
          "data": {
            "text/plain": [
              "GridSearchCV(cv=KFold(n_splits=5, random_state=None, shuffle=False),\n",
              "             estimator=LogisticRegression(), n_jobs=-1,\n",
              "             param_grid={'C': array([1.e-03, 1.e-02, 1.e-01, 1.e+00, 1.e+01, 1.e+02]),\n",
              "                         'penalty': ['l1', 'l2']},\n",
              "             scoring='f1_macro')"
            ]
          },
          "metadata": {},
          "execution_count": 89
        }
      ]
    },
    {
      "cell_type": "code",
      "source": [
        "y_pred=clf.predict(x1_test)\n",
        "print(confusion_matrix(y_test,y_pred))\n",
        "print(accuracy_score(y_test,y_pred))\n",
        "print(classification_report(y_test,y_pred))"
      ],
      "metadata": {
        "colab": {
          "base_uri": "https://localhost:8080/"
        },
        "id": "5q_dFNiw4Uc5",
        "outputId": "6ed7ca63-630f-484f-9d4a-9a2b53814d2d"
      },
      "execution_count": 90,
      "outputs": [
        {
          "output_type": "stream",
          "name": "stdout",
          "text": [
            "[[7 0]\n",
            " [0 4]]\n",
            "1.0\n",
            "              precision    recall  f1-score   support\n",
            "\n",
            "           0       1.00      1.00      1.00         7\n",
            "           1       1.00      1.00      1.00         4\n",
            "\n",
            "    accuracy                           1.00        11\n",
            "   macro avg       1.00      1.00      1.00        11\n",
            "weighted avg       1.00      1.00      1.00        11\n",
            "\n"
          ]
        }
      ]
    },
    {
      "cell_type": "code",
      "source": [
        "clf.score(x1_train,y_train)"
      ],
      "metadata": {
        "colab": {
          "base_uri": "https://localhost:8080/"
        },
        "id": "CLE68BL54vcx",
        "outputId": "3fe5d418-49f8-4c19-900a-2a7f16079733"
      },
      "execution_count": 91,
      "outputs": [
        {
          "output_type": "execute_result",
          "data": {
            "text/plain": [
              "1.0"
            ]
          },
          "metadata": {},
          "execution_count": 91
        }
      ]
    },
    {
      "cell_type": "code",
      "source": [
        "clf.score(x1_test,y_test)"
      ],
      "metadata": {
        "colab": {
          "base_uri": "https://localhost:8080/"
        },
        "id": "bCniWrdE4XuU",
        "outputId": "bdf4c9de-9f90-4eb0-82cb-53a56b41e88a"
      },
      "execution_count": 92,
      "outputs": [
        {
          "output_type": "execute_result",
          "data": {
            "text/plain": [
              "1.0"
            ]
          },
          "metadata": {},
          "execution_count": 92
        }
      ]
    },
    {
      "cell_type": "markdown",
      "source": [
        "# **Achieved 100%** **Accuracy**"
      ],
      "metadata": {
        "id": "EQ_R5E9KQ7p_"
      }
    },
    {
      "cell_type": "code",
      "source": [
        "import pickle\n",
        "# Saving model to disk\n",
        "pickle.dump(clf, open('lrmodel1.pkl','wb'))"
      ],
      "metadata": {
        "id": "8DBbur-wt_0Z"
      },
      "execution_count": 93,
      "outputs": []
    },
    {
      "cell_type": "markdown",
      "source": [
        "# **Experimental Part For Random Forest Classifier**"
      ],
      "metadata": {
        "id": "eVIErMAZG7oZ"
      }
    },
    {
      "cell_type": "code",
      "source": [
        "from sklearn.ensemble import RandomForestClassifier\n",
        "from sklearn.metrics import confusion_matrix,classification_report,accuracy_score\n",
        "from sklearn.pipeline import Pipeline\n",
        "# Create first pipeline for base without reducing features.\n",
        "\n",
        "pipe = Pipeline([('classifier' , RandomForestClassifier())])\n",
        "# pipe = Pipeline([('classifier', RandomForestClassifier())])\n",
        "\n",
        "# Create param grid.\n",
        "\n",
        "param_grid = [\n",
        "    {'classifier' : [LogisticRegression()],\n",
        "     'classifier__penalty' : ['l1', 'l2'],\n",
        "    'classifier__C' : np.logspace(-4, 4, 20),\n",
        "    'classifier__solver' : ['liblinear']},\n",
        "    {'classifier' : [RandomForestClassifier()],\n",
        "    'classifier__n_estimators' : list(range(10,101,10)),\n",
        "    'classifier__max_features' : list(range(6,32,5))}\n",
        "]\n",
        "\n",
        "# Create grid search object\n",
        "\n",
        "clf = GridSearchCV(pipe, param_grid = param_grid, cv = 5, verbose=True, n_jobs=-1)\n",
        "\n",
        "# Fit on data\n",
        "\n",
        "best_clf = clf.fit(x1_train, y_train)"
      ],
      "metadata": {
        "colab": {
          "base_uri": "https://localhost:8080/"
        },
        "id": "uMq97zfz4bgC",
        "outputId": "e3897784-0c56-46c9-92f6-924f68594d48"
      },
      "execution_count": 95,
      "outputs": [
        {
          "output_type": "stream",
          "name": "stdout",
          "text": [
            "Fitting 5 folds for each of 100 candidates, totalling 500 fits\n"
          ]
        }
      ]
    },
    {
      "cell_type": "code",
      "source": [
        "y_pred=clf.predict(x1_test)\n",
        "print(confusion_matrix(y_test,y_pred))\n",
        "print(accuracy_score(y_test,y_pred))\n",
        "print(classification_report(y_test,y_pred))"
      ],
      "metadata": {
        "colab": {
          "base_uri": "https://localhost:8080/"
        },
        "id": "cxgiQY6B4haW",
        "outputId": "b6d91aec-9e5a-48da-b0e3-c30befd24e8d"
      },
      "execution_count": 96,
      "outputs": [
        {
          "output_type": "stream",
          "name": "stdout",
          "text": [
            "[[7 0]\n",
            " [0 4]]\n",
            "1.0\n",
            "              precision    recall  f1-score   support\n",
            "\n",
            "           0       1.00      1.00      1.00         7\n",
            "           1       1.00      1.00      1.00         4\n",
            "\n",
            "    accuracy                           1.00        11\n",
            "   macro avg       1.00      1.00      1.00        11\n",
            "weighted avg       1.00      1.00      1.00        11\n",
            "\n"
          ]
        }
      ]
    },
    {
      "cell_type": "code",
      "source": [
        "clf.score(x1_train,y_train)"
      ],
      "metadata": {
        "colab": {
          "base_uri": "https://localhost:8080/"
        },
        "id": "woZnG1qdLYlD",
        "outputId": "d10ea644-a241-437f-d431-f3b0de6d5d54"
      },
      "execution_count": 99,
      "outputs": [
        {
          "output_type": "execute_result",
          "data": {
            "text/plain": [
              "1.0"
            ]
          },
          "metadata": {},
          "execution_count": 99
        }
      ]
    },
    {
      "cell_type": "code",
      "source": [
        "clf.score(x1_test,y_test)"
      ],
      "metadata": {
        "colab": {
          "base_uri": "https://localhost:8080/"
        },
        "id": "laTdWCf-JTyR",
        "outputId": "e38654cc-4977-4fa0-d933-bd6b6c72d679"
      },
      "execution_count": 100,
      "outputs": [
        {
          "output_type": "execute_result",
          "data": {
            "text/plain": [
              "1.0"
            ]
          },
          "metadata": {},
          "execution_count": 100
        }
      ]
    },
    {
      "cell_type": "code",
      "source": [
        "import pickle\n",
        "# Saving model to disk\n",
        "pickle.dump(clf, open('rfmodel.pkl','wb'))"
      ],
      "metadata": {
        "id": "VwShv600uUc9"
      },
      "execution_count": null,
      "outputs": []
    }
  ]
}